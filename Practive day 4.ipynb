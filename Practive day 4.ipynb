{
 "cells": [
  {
   "cell_type": "code",
   "execution_count": null,
   "metadata": {},
   "outputs": [],
   "source": [
    "inventory = {'gold coin': 42, 'rope': 1}\n",
    "dragonLoot = ['gold coin', 'dagger', 'gold coin', 'gold coin', 'ruby']\n",
    "addToInventory(inventory, addedItems)\n",
    "\n",
    "Inventory:\n",
    "45 gold coin\n",
    "1 rope\n",
    "1 ruby\n",
    "1 dagger\n",
    "\n",
    "Total number of items: 48"
   ]
  },
  {
   "cell_type": "code",
   "execution_count": 1,
   "metadata": {},
   "outputs": [
    {
     "data": {
      "text/plain": [
       "{'gold coin': 42, 'rope': 1}"
      ]
     },
     "execution_count": 1,
     "metadata": {},
     "output_type": "execute_result"
    }
   ],
   "source": [
    "# def addToInventory(inventory, addedItems)\n",
    "\n",
    "inventory = {'gold coin': 42, 'rope': 1}\n",
    "\n",
    "list(inventory)\n",
    "inventory"
   ]
  },
  {
   "cell_type": "code",
   "execution_count": 39,
   "metadata": {},
   "outputs": [
    {
     "name": "stdout",
     "output_type": "stream",
     "text": [
      "{'gold coin': 45, 'rope': 1, 'dagger': 1, 'ruby': 2}\n"
     ]
    }
   ],
   "source": [
    "inventory = {'gold coin': 42, 'rope': 1}\n",
    "dragonLoot = ['gold coin', 'dagger', 'gold coin', 'gold coin', 'ruby', 'ruby']\n",
    "\n",
    "for loot in dragonLoot:\n",
    "    if loot in inventory.keys():\n",
    "        inventory[loot] += 1\n",
    "        #a += 1\n",
    "        #inventory[loot].values += 1 \n",
    "        #inventory [loot] [a] += 1\n",
    "        #inventory.values[loot] += 1\n",
    "    else:\n",
    "        inventory[loot] = 1\n",
    "\n",
    "print (inventory)\n"
   ]
  },
  {
   "cell_type": "code",
   "execution_count": 55,
   "metadata": {},
   "outputs": [
    {
     "ename": "SyntaxError",
     "evalue": "expression cannot contain assignment, perhaps you meant \"==\"? (3135873314.py, line 7)",
     "output_type": "error",
     "traceback": [
      "\u001b[1;36m  Cell \u001b[1;32mIn[55], line 7\u001b[1;36m\u001b[0m\n\u001b[1;33m    dict((key)=a)\u001b[0m\n\u001b[1;37m          ^\u001b[0m\n\u001b[1;31mSyntaxError\u001b[0m\u001b[1;31m:\u001b[0m expression cannot contain assignment, perhaps you meant \"==\"?\n"
     ]
    }
   ],
   "source": [
    "# Disuruh Cari jumlah Non-repeating-Character dan apa karakter yang berulang\n",
    "\n",
    "text = \"123PurwadhikaHeroesHeroes\"\n",
    "\n",
    "a = 0\n",
    "for key in text:\n",
    "    dict((key) = a)\n",
    "    a += 1\n",
    "\n",
    "print (key)\n",
    "#         a.copy = \n",
    "#         a.copy\n",
    "\n",
    "# len   \n",
    "#     repatingchar = spam.intersection(n)\n",
    "    \n",
    "# #cari repating character      \n",
    "# spam3 = spam1.intersection(spam2)\n",
    "\n",
    "# #cari non repating character\n",
    "# spam3 = spam1.difference(spam2)\n",
    "# spam4 = spam2.difference(spam1)\n",
    " \n",
    "# # Non-repeating character: 1\n",
    "# # Repeating character: r"
   ]
  },
  {
   "cell_type": "code",
   "execution_count": null,
   "metadata": {},
   "outputs": [],
   "source": [
    "for i in text \n",
    "    if [a,i,u,e,o,A,I,U,E,O] in text:\n",
    "        true\n",
    "    else:\n",
    "        false"
   ]
  },
  {
   "cell_type": "code",
   "execution_count": null,
   "metadata": {},
   "outputs": [],
   "source": [
    "for i in text \n",
    "    if [a,i,u,e,o,A,I,U,E,O] in text:\n",
    "        true\n",
    "    else:\n",
    "        false"
   ]
  },
  {
   "cell_type": "code",
   "execution_count": null,
   "metadata": {},
   "outputs": [],
   "source": [
    "#convert integer bikin int ke str\n",
    "\n"
   ]
  },
  {
   "cell_type": "code",
   "execution_count": null,
   "metadata": {},
   "outputs": [],
   "source": [
    "#nyari mode. \n",
    "\n",
    "    dict atau set tapi karena dia ngurangin jadi bingung"
   ]
  }
 ],
 "metadata": {
  "kernelspec": {
   "display_name": "Python 3",
   "language": "python",
   "name": "python3"
  },
  "language_info": {
   "codemirror_mode": {
    "name": "ipython",
    "version": 3
   },
   "file_extension": ".py",
   "mimetype": "text/x-python",
   "name": "python",
   "nbconvert_exporter": "python",
   "pygments_lexer": "ipython3",
   "version": "3.12.1"
  }
 },
 "nbformat": 4,
 "nbformat_minor": 2
}
