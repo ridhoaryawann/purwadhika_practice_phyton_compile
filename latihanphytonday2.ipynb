{
 "cells": [
  {
   "cell_type": "code",
   "execution_count": null,
   "metadata": {},
   "outputs": [],
   "source": [
    "#Q1\n",
    "name = input(\"Silahkan masukkan nama kita: \")\n",
    "name = name.split ()\n",
    "firstName = name[0]\n",
    "jumlahKarakter = len(firstName)\n",
    "print(f'The length of your first name letter: {jumlahKarakter}')"
   ]
  },
  {
   "cell_type": "code",
   "execution_count": null,
   "metadata": {},
   "outputs": [],
   "source": [
    "#Q2\n",
    "name = input(\"Silahkan masukkan nama kita: \")\n",
    "genap = name[1::2]\n",
    "genapGede = genap.upper()\n",
    "print(f'Your code:{genapGede}')"
   ]
  },
  {
   "cell_type": "code",
   "execution_count": 41,
   "metadata": {},
   "outputs": [
    {
     "ename": "TypeError",
     "evalue": "'str' object is not callable",
     "output_type": "error",
     "traceback": [
      "\u001b[1;31m---------------------------------------------------------------------------\u001b[0m",
      "\u001b[1;31mTypeError\u001b[0m                                 Traceback (most recent call last)",
      "Cell \u001b[1;32mIn[41], line 10\u001b[0m\n\u001b[0;32m      7\u001b[0m angka4 \u001b[38;5;241m=\u001b[39m (oke[\u001b[38;5;241m3\u001b[39m])\n\u001b[0;32m      8\u001b[0m total \u001b[38;5;241m=\u001b[39m (angka1) \u001b[38;5;241m+\u001b[39m (angka2) \u001b[38;5;241m+\u001b[39m (angka3) \u001b[38;5;241m+\u001b[39m (angka4)\n\u001b[1;32m---> 10\u001b[0m \u001b[38;5;28;43mprint\u001b[39;49m\u001b[43m(\u001b[49m\u001b[38;5;124;43mf\u001b[39;49m\u001b[38;5;124;43m'\u001b[39;49m\u001b[38;5;124;43mtotal:\u001b[39;49m\u001b[38;5;132;43;01m{\u001b[39;49;00m\u001b[43mtotal\u001b[49m\u001b[38;5;132;43;01m}\u001b[39;49;00m\u001b[38;5;124;43m'\u001b[39;49m\u001b[43m)\u001b[49m\n\u001b[0;32m     11\u001b[0m \u001b[38;5;28mprint\u001b[39m(\u001b[38;5;124mf\u001b[39m\u001b[38;5;124m'\u001b[39m\u001b[38;5;124mreverse:\u001b[39m\u001b[38;5;132;01m{\u001b[39;00mangka4\u001b[38;5;132;01m}\u001b[39;00m\u001b[38;5;124m + \u001b[39m\u001b[38;5;132;01m{\u001b[39;00mangka3\u001b[38;5;132;01m}\u001b[39;00m\u001b[38;5;124m + \u001b[39m\u001b[38;5;132;01m{\u001b[39;00mangka2\u001b[38;5;132;01m}\u001b[39;00m\u001b[38;5;124m + \u001b[39m\u001b[38;5;132;01m{\u001b[39;00mangka1\u001b[38;5;132;01m}\u001b[39;00m\u001b[38;5;124m'\u001b[39m)\n\u001b[0;32m     13\u001b[0m \u001b[38;5;66;03m#num[::-1] start stop step\u001b[39;00m\n",
      "\u001b[1;31mTypeError\u001b[0m: 'str' object is not callable"
     ]
    }
   ],
   "source": [
    "#Q3\n",
    "oke1 = input(\"Masukkan empat angka anda: \")\n",
    "oke = str(oke1)\n",
    "angka1 = (oke[0])\n",
    "angka2 = (oke[1])\n",
    "angka3 = (oke[2])\n",
    "angka4 = (oke[3])\n",
    "total = (angka1) + (angka2) + (angka3) + (angka4)\n",
    "\n",
    "print(f'total:{total}')\n",
    "print(f'reverse:{angka4} + {angka3} + {angka2} + {angka1}')\n",
    "\n",
    "#num[::-1] start stop step\n"
   ]
  },
  {
   "cell_type": "code",
   "execution_count": 39,
   "metadata": {},
   "outputs": [
    {
     "ename": "TypeError",
     "evalue": "must be str or None, not int",
     "output_type": "error",
     "traceback": [
      "\u001b[1;31m---------------------------------------------------------------------------\u001b[0m",
      "\u001b[1;31mTypeError\u001b[0m                                 Traceback (most recent call last)",
      "Cell \u001b[1;32mIn[39], line 14\u001b[0m\n\u001b[0;32m     11\u001b[0m k1 \u001b[38;5;241m=\u001b[39m \u001b[38;5;28minput\u001b[39m(\u001b[38;5;124m\"\u001b[39m\u001b[38;5;124mMasukkan koordinat 1: \u001b[39m\u001b[38;5;124m\"\u001b[39m)\n\u001b[0;32m     12\u001b[0m k2 \u001b[38;5;241m=\u001b[39m \u001b[38;5;28minput\u001b[39m(\u001b[38;5;124m\"\u001b[39m\u001b[38;5;124mMasukkan koordinat 2: \u001b[39m\u001b[38;5;124m\"\u001b[39m)\n\u001b[1;32m---> 14\u001b[0m x1 \u001b[38;5;241m=\u001b[39m \u001b[43mk1\u001b[49m\u001b[38;5;241;43m.\u001b[39;49m\u001b[43msplit\u001b[49m\u001b[43m(\u001b[49m\u001b[38;5;241;43m1\u001b[39;49m\u001b[43m)\u001b[49m\n\u001b[0;32m     15\u001b[0m \u001b[38;5;28mprint\u001b[39m (\u001b[38;5;28mint\u001b[39m(x1))\n\u001b[0;32m     16\u001b[0m \u001b[38;5;124;03m'''x1= int(k1[0])\u001b[39;00m\n\u001b[0;32m     17\u001b[0m \u001b[38;5;124;03mx2= int(k2[0])\u001b[39;00m\n\u001b[0;32m     18\u001b[0m \n\u001b[1;32m   (...)\u001b[0m\n\u001b[0;32m     26\u001b[0m \u001b[38;5;124;03mprint (f'distance: {distance}')\u001b[39;00m\n\u001b[0;32m     27\u001b[0m \u001b[38;5;124;03m'''\u001b[39;00m\n",
      "\u001b[1;31mTypeError\u001b[0m: must be str or None, not int"
     ]
    }
   ],
   "source": [
    "#Q4\n",
    "import math\n",
    "'''Write a script that prompts the user to enter the coordinates of point (x, y). Find the slope and Euclidean distance between point (x1, y1) and point (x2, y2).'''\n",
    "'''# Input\n",
    "Enter the coordinate of point A: 2, 5\n",
    "Enter the coordinate of point B: 3, 7\n",
    "\n",
    "# Output\n",
    "slope: 2\n",
    "distance: 2.236'''\n",
    "k1 = input(\"Masukkan koordinat 1: \")\n",
    "k2 = input(\"Masukkan koordinat 2: \")\n",
    "\n",
    "x1= int(k1[0])\n",
    "x2= int(k2[0])\n",
    "\n",
    "y1= int(k1[1])\n",
    "y2= int(k2[1])\n",
    "\n",
    "slope = (y2 - y1) / (x2 - x1)\n",
    "distance = round( math.sqrt(((x2 - x1)**2 + (y2 - y1)**2)), 3)\n",
    "\n",
    "print (f'slope: {slope}')\n",
    "print (f'distance: {distance}')\n",
    "'''"
   ]
  },
  {
   "cell_type": "code",
   "execution_count": 2,
   "metadata": {},
   "outputs": [
    {
     "name": "stdout",
     "output_type": "stream",
     "text": [
      "expected result: dhiwa purka\n"
     ]
    }
   ],
   "source": [
    "#Q5\n",
    "#Input\n",
    "#Enter the sample string: 'purwa, dhika'\n",
    "# Output\n",
    "#expected result: 'dhiwa purka'''\n",
    "\n",
    "nama = input(\"Enter The Sample String: \")\n",
    "namala = str(nama)\n",
    "namanya = namala.split()\n",
    "name1 = namanya[0]\n",
    "name2 = namanya[1]\n",
    "\n",
    "name1a =  name1[0:3]\n",
    "name1b = name1[3:5:]\n",
    "\n",
    "name2a = name2[0:3]\n",
    "name2b = name2[3::]\n",
    "\n",
    "print (f'expected result: {name2a}{name1b} {name1a}{name2b}')\n",
    "\n",
    "#print(name1a)\n",
    "#print(name1b)\n",
    "#print(name2a)\n",
    "#print(name2b)"
   ]
  },
  {
   "cell_type": "code",
   "execution_count": 9,
   "metadata": {},
   "outputs": [
    {
     "name": "stdout",
     "output_type": "stream",
     "text": [
      "expected result: jPKdaA\n"
     ]
    }
   ],
   "source": [
    "#Q6\n",
    "# Input\n",
    "jogja = 'joGjaKARTa'\n",
    "purwa = 'PurWAdhiKA'\n",
    "# Output\n",
    "# expected result: 'jPKdaA'\n",
    "\n",
    "midjogja = len(jogja)//2\n",
    "midpurwa = len(purwa)//2\n",
    "\n",
    "print (f'expected result: {jogja[0]}{purwa[0]}{jogja[midjogja:6]}{purwa[midpurwa:6]}{jogja[-1]}{purwa[-1]}')"
   ]
  },
  {
   "cell_type": "code",
   "execution_count": 10,
   "metadata": {},
   "outputs": [],
   "source": [
    "#Q7\n",
    "# Input\n",
    "# huruf = 'JCDS'\n",
    "# nomor = '0210'\n",
    "\n",
    "huruf = input('masukkan huruf anda: ')\n",
    "nomor = input('masukkan nomor anda: ')\n",
    "\n",
    "baginya = int (len(huruf) / 2)\n",
    "\n",
    "hasil = f'{huruf[baginya:]} {nomor} {huruf[:baginya]}'\n",
    "print = (f'output: {hasil}')\n",
    "\n",
    "# Output\n",
    "# expected result: 'JC0210DS' "
   ]
  }
 ],
 "metadata": {
  "kernelspec": {
   "display_name": "Python 3",
   "language": "python",
   "name": "python3"
  },
  "language_info": {
   "codemirror_mode": {
    "name": "ipython",
    "version": 3
   },
   "file_extension": ".py",
   "mimetype": "text/x-python",
   "name": "python",
   "nbconvert_exporter": "python",
   "pygments_lexer": "ipython3",
   "version": "3.12.1"
  }
 },
 "nbformat": 4,
 "nbformat_minor": 2
}
