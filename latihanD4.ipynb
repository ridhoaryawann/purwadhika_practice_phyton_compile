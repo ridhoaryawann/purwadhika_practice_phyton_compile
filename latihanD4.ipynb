{
 "cells": [
  {
   "cell_type": "code",
   "execution_count": 3,
   "metadata": {},
   "outputs": [
    {
     "name": "stdout",
     "output_type": "stream",
     "text": [
      "['ganjil', 'ganjil', 'genap', 'ganjil']\n"
     ]
    }
   ],
   "source": [
    "#Q1\n",
    "\n",
    "def convert (value):\n",
    "    if value % 2 == 0:\n",
    "        return \"genap\"\n",
    "    else:\n",
    "        return \"ganjil\"\n",
    "\n",
    "l1 = [1,3, 4, 5]\n",
    "result = list(map(convert,l1))\n",
    "print (result)"
   ]
  },
  {
   "cell_type": "code",
   "execution_count": 14,
   "metadata": {},
   "outputs": [
    {
     "name": "stdout",
     "output_type": "stream",
     "text": [
      "[]\n"
     ]
    }
   ],
   "source": [
    "#Q2\n",
    "def convert (value):\n",
    "    x= value * (1-0.5)\n",
    "    if x >= 9000000:\n",
    "        return x\n",
    "\n",
    "l1 = [91e5, 98e5, 95e5, 10.3e5, 93e5]\n",
    "result = list(filter(convert, l1))\n",
    "print (result)"
   ]
  },
  {
   "cell_type": "code",
   "execution_count": 16,
   "metadata": {},
   "outputs": [
    {
     "name": "stdout",
     "output_type": "stream",
     "text": [
      "20000\n"
     ]
    }
   ],
   "source": [
    "n_apel = 10\n",
    "price_apel = 2000\n",
    "\n",
    "def total_apel(berapa):\n",
    "    berapa = n_apel * price_apel\n",
    "    print (berapa)\n",
    "\n",
    "apel1 = total_apel(10)\n"
   ]
  },
  {
   "cell_type": "code",
   "execution_count": 23,
   "metadata": {},
   "outputs": [
    {
     "data": {
      "text/plain": [
       "6"
      ]
     },
     "execution_count": 23,
     "metadata": {},
     "output_type": "execute_result"
    }
   ],
   "source": [
    "#Question #1\n",
    "\n",
    "#Write a factorial() function for calculating the factorial of the input number, and please use the recursion schema. Your solution is correct if the following assert statements’ conditions are all True:\n",
    "#assert factorial(0) == 1\n",
    "#assert factorial(3) == 6\n",
    "#assert factorial(10) == 3628800\n",
    "#assert factorial(-10) == None\n",
    "\n",
    "\n",
    "def factorial(angka):\n",
    "    if angka < 0:\n",
    "        print ('NONE')\n",
    "    elif angka == 0:\n",
    "        return 1\n",
    "    else:\n",
    "        return angka * factorial(angka-1)\n",
    "\n",
    "factorial(3)\n"
   ]
  },
  {
   "cell_type": "code",
   "execution_count": 67,
   "metadata": {},
   "outputs": [
    {
     "data": {
      "text/plain": [
       "'1h 201s'"
      ]
     },
     "execution_count": 67,
     "metadata": {},
     "output_type": "execute_result"
    }
   ],
   "source": [
    "# Websites often use relative timestamps such as 3 days ago or about 3h ago so the user doesn’t need to compare an absolute timestamp to the current time. In this exercise, you write a function that converts a number of seconds into a string with the number of hours, minutes, and seconds.\n",
    "# Write a timeConvert() function that has a totalSeconds parameter. The argument for this parameter will be the number of seconds to be translated into the number of hours, minutes, and seconds. If the amount for the hours, minutes, or seconds is zero, don’t show it: the function should return `10m` rather than '0h 10m 0s'. \n",
    "# Your solution is correct if the following assert statements’ conditions are all True:\n",
    "# assert timeConvert(0) == '0s'\n",
    "# assert timeConvert(30) == '30s'\n",
    "# assert timeConvert(60) == '1m'\n",
    "# assert timeConvert(90) == '1m 30s'\n",
    "# assert timeConvert(3600) == '1h'\n",
    "# assert timeConvert(3601) == '1h 1s'\n",
    "# assert timeConvert(3661) == '1h 1m 1s'\n",
    "# assert timeConvert(90042) == '25h 42s'\n",
    "\n",
    "def convertTime(totalsecond):\n",
    "    if totalsecond == 0 :\n",
    "        return '0s'\n",
    "\n",
    "    hour = 0\n",
    "    while totalsecond >= 3600:\n",
    "        hour += 1\n",
    "        totalsecond -= 3600\n",
    "\n",
    "    minute = 0\n",
    "    while totalsecond >= 3600:\n",
    "        minute += 1\n",
    "        totalsecond -= 60\n",
    "\n",
    "    sec = totalsecond\n",
    "\n",
    "    out = []\n",
    "    if hour > 0:\n",
    "        out.append(f'{hour}h')\n",
    "    if minute > 0:\n",
    "        out.append(f'{minute}m')\n",
    "    if sec > 0:\n",
    "        out.append(f'{sec}s')\n",
    "\n",
    "    return ' '.join(out)\n",
    "\n",
    "\n",
    "convertTime(3801)"
   ]
  },
  {
   "cell_type": "code",
   "execution_count": 69,
   "metadata": {},
   "outputs": [],
   "source": [
    "# Area and volume are straightforward calculations. You will write two functions, area() and volume()for this exercise. Each function is a simple calculation and return statement. However, area and volume are slightly more complicated because they involve multiple parameters. This exercise continues to challenge you to translate mathematical formulas into Python code.\n",
    "# The formulas for calculating area and volume area are based on the length (L), width (W), and height (H) of the shape:\n",
    "# area = L × W\n",
    "# volume = L × W × H\n",
    "# Your solution is correct if the following assert statements conditions are all True:\n",
    "\n",
    "def area(l, w):\n",
    "    return l * w\n",
    "\n",
    "def volume(l,w,h):\n",
    "    return area(l, w) * h\n",
    "    \n",
    "\n",
    "\n",
    "\n",
    "assert area(10, 10) == 100\n",
    "assert area(0, 9999) == 0\n",
    "assert volume(10, 10, 10) == 1000\n",
    "assert volume(5, 8, 10) == 400\n",
    "\n"
   ]
  },
  {
   "cell_type": "code",
   "execution_count": null,
   "metadata": {},
   "outputs": [],
   "source": [
    "#     Question #4\n",
    "# A chess board has a checker-pattern of white and black tiles. Write a getColor() function that has parameters column and row. The function either returns 'black' or 'white' depending on the color at the specified column and row. Chess boards are 8 x 8 spaces in size, and the columns and rows in this program begin at 0 and end at 7 like in Figure. If the arguments for column or row are outside the 0 to 7 range, the function returns a blank string.\n",
    "\n",
    "# Your solution is correct if the following assert statements conditions are all True:\n",
    "\n",
    "    def getColor (r, c):\n",
    "        if r < 0 or r > 7 or  c < 0 or c > 7\n",
    "            return ' '\n",
    "        elif r%2 == c%2:\n",
    "            return 'white'\n",
    "        else:\n",
    "            return 'black'\n",
    "\n",
    "    #selesai sampai sini\n",
    "    \n",
    "    b = baris\n",
    "    k = kolom\n",
    "    \n",
    "    if b and k > 7  \n",
    "        break\n",
    "        print(\"chees bosque bukan ceki\")\n",
    "    elif b and k < 0 \n",
    "        print(\"chees bosque ngapain minus minus\")\n",
    "    else:\n",
    "        return\n",
    "\n",
    "    def 1\n",
    "    if b % 2 == 0 and k % 2 != 1\n",
    "        print (\"black\")\n",
    "    else : \n",
    "        print (\"white\")\n",
    "    \n",
    "    def 2\n",
    "    if k % 2 == 0 and k % 2 != 1\n",
    "        print (\"white\")\n",
    "    else : \n",
    "        print (\"black\")  \n",
    "\n",
    "    def 3\n",
    "    if k == 0\n",
    "         print (\"white\")\n",
    "\n",
    "    kalau 0 \n",
    "assert getColor(1, 1) == 'white'\n",
    "assert getColor(2, 1) == 'black'\n",
    "assert getColor(1, 2) == 'black'\n",
    "assert getColor(8, 8) == 'white'\n",
    "assert getColor(0, 8) == ''\n",
    "assert getColor(2, 9) == ''\n",
    "\n"
   ]
  },
  {
   "cell_type": "code",
   "execution_count": 74,
   "metadata": {},
   "outputs": [
    {
     "ename": "UnboundLocalError",
     "evalue": "cannot access local variable 'out' where it is not associated with a value",
     "output_type": "error",
     "traceback": [
      "\u001b[1;31m---------------------------------------------------------------------------\u001b[0m",
      "\u001b[1;31mUnboundLocalError\u001b[0m                         Traceback (most recent call last)",
      "Cell \u001b[1;32mIn[74], line 24\u001b[0m\n\u001b[0;32m     21\u001b[0m             out \u001b[38;5;241m+\u001b[39m\u001b[38;5;241m=\u001b[39m word \n\u001b[0;32m     22\u001b[0m     \u001b[38;5;28;01mreturn\u001b[39;00m out \n\u001b[1;32m---> 24\u001b[0m \u001b[43mencryptor\u001b[49m\u001b[43m(\u001b[49m\u001b[38;5;124;43m'\u001b[39;49m\u001b[38;5;124;43mMeet me by the rose bushes tonight\u001b[39;49m\u001b[38;5;124;43m'\u001b[39;49m\u001b[43m)\u001b[49m\n",
      "Cell \u001b[1;32mIn[74], line 19\u001b[0m, in \u001b[0;36mencryptor\u001b[1;34m(text)\u001b[0m\n\u001b[0;32m     16\u001b[0m         \u001b[38;5;28;01mif\u001b[39;00m index \u001b[38;5;241m>\u001b[39m \u001b[38;5;28mlen\u001b[39m(symbol):\n\u001b[0;32m     17\u001b[0m                 index \u001b[38;5;241m-\u001b[39m\u001b[38;5;241m=\u001b[39m \u001b[38;5;28mlen\u001b[39m(symbol)\n\u001b[1;32m---> 19\u001b[0m         \u001b[43mout\u001b[49m \u001b[38;5;241m+\u001b[39m\u001b[38;5;241m=\u001b[39m symbol[index]\n\u001b[0;32m     20\u001b[0m \u001b[38;5;28;01melse\u001b[39;00m:\n\u001b[0;32m     21\u001b[0m     out \u001b[38;5;241m+\u001b[39m\u001b[38;5;241m=\u001b[39m word \n",
      "\u001b[1;31mUnboundLocalError\u001b[0m: cannot access local variable 'out' where it is not associated with a value"
     ]
    }
   ],
   "source": [
    "# Question #5\n",
    "# The Caesar cipher is an ancient encryption algorithm used by Julius Caesar. It encrypts letters by shifting them over by a certain number of places in the alphabet. We call the length of shift the key. For example, if the key is 4, then A becomes E, B becomes F, C becomes G, and so on. To decrypt the message, you must shift the encrypted letters in the opposite direction. Write encrypthor() function that has parameter message. This function lets the user encrypt messages according to this algorithm. Your solution is correct if the following output are all similar:\n",
    "# # input\n",
    "# encrpythor('Meet me by the rose bushes tonight.')\n",
    "\n",
    "# # output \n",
    "# 'QIIX QI FC XLI VSWI FYWLIW XSRMKLX.'\n",
    "\n",
    "def encryptor(text):\n",
    "    symbol = \"ABCDEFGHIJKLMNOPQRSTUVWXYZ\"\n",
    "    for word in text.upper(): \n",
    "        if word in symbol :\n",
    "                index = symbol.find(word)\n",
    "                index += 4\n",
    "\n",
    "                if index > len(symbol):\n",
    "                        index -= len(symbol)\n",
    "\n",
    "                out += symbol[index]\n",
    "        else:\n",
    "            out += word \n",
    "    return out \n",
    "\n",
    "encryptor('Meet me by the rose bushes tonight')\n",
    "    "
   ]
  },
  {
   "cell_type": "code",
   "execution_count": null,
   "metadata": {},
   "outputs": [],
   "source": [
    "# Question #6\n",
    "# Earth takes about 365.25 days to revolve around the sun. This slight offset would cause our 365-day calendar to become inaccurate over time. Therefore, leap years have an extra day, February 29th. A leap year occurs on all years divisible by four (e.g., 2016, 2020, 2024, and so on). However, the exception to this rule is that years divisible by one hundred (e.g., 2100, 2200, 2300, and so on) aren’t leap years. And the exception to this exception is that years divisible by four hundred (e.g., 2000, 2400, and so on) are leap years. Write a isLeapYear() function with an integer year parameter. If year is a leap year, the function returns True. Otherwise, the function returns False. Your solution is correct if the following assert statements’ conditions are all True:\n",
    "# assert isLeapYear(1999) == False\n",
    "# assert isLeapYear(2000) == True\n",
    "# assert isLeapYear(2001) == False\n",
    "# assert isLeapYear(2004) == True\n",
    "# assert isLeapYear(2100) == False\n",
    "# assert isLeapYear(2400) == True\n",
    "\n",
    "\n",
    "def isleapyear (year)\n",
    "    if year % 400 = 0:\n",
    "        return 'true'\n",
    "    elif year % 100 = 0:\n",
    "        return 'false'\n",
    "    elif year % 100 = 0:\n",
    "        return 'true'\n",
    "    else:\n",
    "        'false'\n"
   ]
  },
  {
   "cell_type": "code",
   "execution_count": null,
   "metadata": {},
   "outputs": [],
   "source": []
  },
  {
   "cell_type": "code",
   "execution_count": null,
   "metadata": {},
   "outputs": [],
   "source": [
    "setiap - "
   ]
  }
 ],
 "metadata": {
  "kernelspec": {
   "display_name": "Python 3",
   "language": "python",
   "name": "python3"
  },
  "language_info": {
   "codemirror_mode": {
    "name": "ipython",
    "version": 3
   },
   "file_extension": ".py",
   "mimetype": "text/x-python",
   "name": "python",
   "nbconvert_exporter": "python",
   "pygments_lexer": "ipython3",
   "version": "3.12.1"
  }
 },
 "nbformat": 4,
 "nbformat_minor": 2
}
