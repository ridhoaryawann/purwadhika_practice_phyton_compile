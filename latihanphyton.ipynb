{
 "cells": [
  {
   "cell_type": "code",
   "execution_count": null,
   "metadata": {},
   "outputs": [],
   "source": [
    "#Q1\n",
    "name = input(\"Silahkan masukkan nama kita: \")\n",
    "name = name.split ()\n",
    "firstName = name[0]\n",
    "jumlahKarakter = len(firstName)\n",
    "print(f'The length of your first name letter: {jumlahKarakter}')"
   ]
  },
  {
   "cell_type": "code",
   "execution_count": null,
   "metadata": {},
   "outputs": [],
   "source": [
    "#Q2\n",
    "name = input(\"Silahkan masukkan nama kita: \")\n",
    "genap = name[1::2]\n",
    "genapGede = genap.upper()\n",
    "print(f'Your code:{genapGede}')"
   ]
  },
  {
   "cell_type": "code",
   "execution_count": null,
   "metadata": {},
   "outputs": [],
   "source": [
    "#Q3\n",
    "oke = input(\"Masukkan empat angka anda: \")\n",
    "\n",
    "angka1 = oke[0]\n",
    "angka2 = oke[1]\n",
    "angka3 = (oke[2])\n",
    "angka4 = (oke[3])\n",
    "total = int(angka1)+int(angka2)+int(angka3)+int(angka4)\n",
    "reverse = angka4 + angka3 + angka2 + angka1 #num[::-1] start stop step\n",
    "\n",
    "print(f'total:{total}')\n",
    "print(f'reverse:{reverse}')\n"
   ]
  },
  {
   "cell_type": "code",
   "execution_count": 24,
   "metadata": {},
   "outputs": [
    {
     "ename": "TypeError",
     "evalue": "'str' object is not callable",
     "output_type": "error",
     "traceback": [
      "\u001b[1;31m---------------------------------------------------------------------------\u001b[0m",
      "\u001b[1;31mTypeError\u001b[0m                                 Traceback (most recent call last)",
      "Cell \u001b[1;32mIn[24], line 23\u001b[0m\n\u001b[0;32m     20\u001b[0m slope \u001b[38;5;241m=\u001b[39m (y2 \u001b[38;5;241m-\u001b[39m y1) \u001b[38;5;241m/\u001b[39m (x2 \u001b[38;5;241m-\u001b[39m x1)\n\u001b[0;32m     21\u001b[0m distance \u001b[38;5;241m=\u001b[39m \u001b[38;5;28mround\u001b[39m( math\u001b[38;5;241m.\u001b[39msqrt(((x2 \u001b[38;5;241m-\u001b[39m x1)\u001b[38;5;241m*\u001b[39m\u001b[38;5;241m*\u001b[39m\u001b[38;5;241m2\u001b[39m \u001b[38;5;241m+\u001b[39m (y2 \u001b[38;5;241m-\u001b[39m y1)\u001b[38;5;241m*\u001b[39m\u001b[38;5;241m*\u001b[39m\u001b[38;5;241m2\u001b[39m)), \u001b[38;5;241m3\u001b[39m)\n\u001b[1;32m---> 23\u001b[0m \u001b[38;5;28;43mprint\u001b[39;49m\u001b[43m \u001b[49m\u001b[43m(\u001b[49m\u001b[38;5;124;43mf\u001b[39;49m\u001b[38;5;124;43m'\u001b[39;49m\u001b[38;5;124;43mslope: \u001b[39;49m\u001b[38;5;132;43;01m{\u001b[39;49;00m\u001b[43mslope\u001b[49m\u001b[38;5;132;43;01m}\u001b[39;49;00m\u001b[38;5;124;43m'\u001b[39;49m\u001b[43m)\u001b[49m\n\u001b[0;32m     24\u001b[0m \u001b[38;5;28mprint\u001b[39m (\u001b[38;5;124mf\u001b[39m\u001b[38;5;124m'\u001b[39m\u001b[38;5;124mdistance: \u001b[39m\u001b[38;5;132;01m{\u001b[39;00mdistance\u001b[38;5;132;01m}\u001b[39;00m\u001b[38;5;124m'\u001b[39m)\n",
      "\u001b[1;31mTypeError\u001b[0m: 'str' object is not callable"
     ]
    }
   ],
   "source": [
    "#Q4\n",
    "import math\n",
    "'''Write a script that prompts the user to enter the coordinates of point (x, y). Find the slope and Euclidean distance between point (x1, y1) and point (x2, y2).'''\n",
    "'''# Input\n",
    "Enter the coordinate of point A: 2, 5\n",
    "Enter the coordinate of point B: 3, 7\n",
    "\n",
    "# Output\n",
    "slope: 2\n",
    "distance: 2.236'''\n",
    "k1 = input(\"Masukkan koordinat 1: \")\n",
    "k2 = input(\"Masukkan koordinat 2: \")\n",
    "\n",
    "x1= int(k1[0])\n",
    "x2= int(k2[0])\n",
    "\n",
    "y1= int(k1[1])\n",
    "y2= int(k2[1])\n",
    "\n",
    "slope = (y2 - y1) / (x2 - x1)\n",
    "distance = round( math.sqrt(((x2 - x1)**2 + (y2 - y1)**2)), 3)\n",
    "\n",
    "print (f'slope: {slope}')\n",
    "print (f'distance: {distance}')"
   ]
  },
  {
   "cell_type": "code",
   "execution_count": 23,
   "metadata": {},
   "outputs": [
    {
     "ename": "TypeError",
     "evalue": "'str' object is not callable",
     "output_type": "error",
     "traceback": [
      "\u001b[1;31m---------------------------------------------------------------------------\u001b[0m",
      "\u001b[1;31mTypeError\u001b[0m                                 Traceback (most recent call last)",
      "Cell \u001b[1;32mIn[23], line 19\u001b[0m\n\u001b[0;32m     16\u001b[0m name2a \u001b[38;5;241m=\u001b[39m name2[\u001b[38;5;241m0\u001b[39m:\u001b[38;5;241m3\u001b[39m]\n\u001b[0;32m     17\u001b[0m name2b \u001b[38;5;241m=\u001b[39m name2[\u001b[38;5;241m3\u001b[39m::]\n\u001b[1;32m---> 19\u001b[0m \u001b[38;5;28;43mprint\u001b[39;49m\u001b[43m \u001b[49m\u001b[43m(\u001b[49m\u001b[38;5;124;43mf\u001b[39;49m\u001b[38;5;124;43m'\u001b[39;49m\u001b[38;5;124;43mexpected result: \u001b[39;49m\u001b[38;5;132;43;01m{\u001b[39;49;00m\u001b[43mname2a\u001b[49m\u001b[38;5;132;43;01m}\u001b[39;49;00m\u001b[38;5;132;43;01m{\u001b[39;49;00m\u001b[43mname1b\u001b[49m\u001b[38;5;132;43;01m}\u001b[39;49;00m\u001b[38;5;124;43m \u001b[39;49m\u001b[38;5;132;43;01m{\u001b[39;49;00m\u001b[43mname1a\u001b[49m\u001b[38;5;132;43;01m}\u001b[39;49;00m\u001b[38;5;132;43;01m{\u001b[39;49;00m\u001b[43mname2b\u001b[49m\u001b[38;5;132;43;01m}\u001b[39;49;00m\u001b[38;5;124;43m'\u001b[39;49m\u001b[43m)\u001b[49m\n\u001b[0;32m     21\u001b[0m \u001b[38;5;66;03m#print(name1a)\u001b[39;00m\n\u001b[0;32m     22\u001b[0m \u001b[38;5;66;03m#print(name1b)\u001b[39;00m\n\u001b[0;32m     23\u001b[0m \u001b[38;5;66;03m#print(name2a)\u001b[39;00m\n\u001b[0;32m     24\u001b[0m \u001b[38;5;66;03m#print(name2b)\u001b[39;00m\n",
      "\u001b[1;31mTypeError\u001b[0m: 'str' object is not callable"
     ]
    }
   ],
   "source": [
    "#Q5\n",
    "#Input\n",
    "#Enter the sample string: 'purwa, dhika'\n",
    "# Output\n",
    "#expected result: 'dhiwa purka'''\n",
    "\n",
    "nama = input(\"Enter The Sample String: \")\n",
    "namala = str(nama)\n",
    "namanya = namala.split()\n",
    "name1 = namanya[0]\n",
    "name2 = namanya[1]\n",
    "\n",
    "name1a =  name1[0:3]\n",
    "name1b = name1[3:5:]\n",
    "\n",
    "name2a = name2[0:3]\n",
    "name2b = name2[3::]\n",
    "\n",
    "print (f'expected result: {name2a}{name1b} {name1a}{name2b}')\n",
    "\n",
    "#print(name1a)\n",
    "#print(name1b)\n",
    "#print(name2a)\n",
    "#print(name2b)"
   ]
  },
  {
   "cell_type": "code",
   "execution_count": 22,
   "metadata": {},
   "outputs": [
    {
     "ename": "TypeError",
     "evalue": "'str' object is not callable",
     "output_type": "error",
     "traceback": [
      "\u001b[1;31m---------------------------------------------------------------------------\u001b[0m",
      "\u001b[1;31mTypeError\u001b[0m                                 Traceback (most recent call last)",
      "Cell \u001b[1;32mIn[22], line 6\u001b[0m\n\u001b[0;32m      3\u001b[0m jogja \u001b[38;5;241m=\u001b[39m \u001b[38;5;124m'\u001b[39m\u001b[38;5;124mjoGjaKARTa\u001b[39m\u001b[38;5;124m'\u001b[39m\n\u001b[0;32m      4\u001b[0m purwa \u001b[38;5;241m=\u001b[39m \u001b[38;5;124m'\u001b[39m\u001b[38;5;124mPurWAdhiKA\u001b[39m\u001b[38;5;124m'\u001b[39m\n\u001b[1;32m----> 6\u001b[0m \u001b[38;5;28;43mprint\u001b[39;49m\u001b[43m \u001b[49m\u001b[43m(\u001b[49m\u001b[38;5;28;43mlen\u001b[39;49m\u001b[43m(\u001b[49m\u001b[43mjogja\u001b[49m\u001b[43m)\u001b[49m\u001b[43m)\u001b[49m\n\u001b[0;32m      7\u001b[0m \u001b[38;5;66;03m# Output\u001b[39;00m\n\u001b[0;32m      8\u001b[0m \u001b[38;5;66;03m# expected result: 'jPKdaA'\u001b[39;00m\n\u001b[0;32m      9\u001b[0m \n\u001b[0;32m     10\u001b[0m \u001b[38;5;66;03m#midjogja = int (len(jogja)//2)\u001b[39;00m\n\u001b[0;32m     11\u001b[0m \u001b[38;5;66;03m#midpurwa = int (len(purwa)//2)\u001b[39;00m\n\u001b[0;32m     13\u001b[0m \u001b[38;5;28mprint\u001b[39m (\u001b[38;5;124mf\u001b[39m\u001b[38;5;124m'\u001b[39m\u001b[38;5;124mexpected result: \u001b[39m\u001b[38;5;132;01m{\u001b[39;00mjogja[\u001b[38;5;241m0\u001b[39m]\u001b[38;5;132;01m}\u001b[39;00m\u001b[38;5;132;01m{\u001b[39;00mpurwa[\u001b[38;5;241m0\u001b[39m]\u001b[38;5;132;01m}\u001b[39;00m\u001b[38;5;132;01m{\u001b[39;00mjogja[midjogja:]\u001b[38;5;132;01m}\u001b[39;00m\u001b[38;5;132;01m{\u001b[39;00mpurwa[midpurwa:]\u001b[38;5;132;01m}\u001b[39;00m\u001b[38;5;132;01m{\u001b[39;00mjogja[\u001b[38;5;241m-\u001b[39m\u001b[38;5;241m1\u001b[39m]\u001b[38;5;132;01m}\u001b[39;00m\u001b[38;5;132;01m{\u001b[39;00mpurwa[\u001b[38;5;241m-\u001b[39m\u001b[38;5;241m1\u001b[39m]\u001b[38;5;132;01m}\u001b[39;00m\u001b[38;5;124m'\u001b[39m)\n",
      "\u001b[1;31mTypeError\u001b[0m: 'str' object is not callable"
     ]
    }
   ],
   "source": [
    "#Q6\n",
    "# Input\n",
    "jogja = 'joGjaKARTa'\n",
    "purwa = 'PurWAdhiKA'\n",
    "\n",
    "print (len(jogja))\n",
    "# Output\n",
    "# expected result: 'jPKdaA'\n",
    "\n",
    "#midjogja = int (len(jogja)//2)\n",
    "#midpurwa = int (len(purwa)//2)\n",
    "\n",
    "print (f'expected result: {jogja[0]}{purwa[0]}{jogja[midjogja:]}{purwa[midpurwa:]}{jogja[-1]}{purwa[-1]}')"
   ]
  },
  {
   "cell_type": "code",
   "execution_count": 1,
   "metadata": {},
   "outputs": [],
   "source": [
    "#Q7\n",
    "# Input\n",
    "# huruf = 'JCDS'\n",
    "# nomor = '0210'\n",
    "\n",
    "huruf = input('masukkan huruf anda: ')\n",
    "nomor = input('masukkan nomor anda: ')\n",
    "\n",
    "baginya = int (len(huruf) / 2)\n",
    "\n",
    "hasil = f'{huruf[baginya:]} {nomor} {huruf[:baginya]}'\n",
    "print = (f'output: {hasil}')\n",
    "\n",
    "# Output\n",
    "# expected result: 'JC0210DS' "
   ]
  }
 ],
 "metadata": {
  "kernelspec": {
   "display_name": "Python 3",
   "language": "python",
   "name": "python3"
  },
  "language_info": {
   "codemirror_mode": {
    "name": "ipython",
    "version": 3
   },
   "file_extension": ".py",
   "mimetype": "text/x-python",
   "name": "python",
   "nbconvert_exporter": "python",
   "pygments_lexer": "ipython3",
   "version": "3.12.1"
  }
 },
 "nbformat": 4,
 "nbformat_minor": 2
}
